{
  "nbformat": 4,
  "nbformat_minor": 0,
  "metadata": {
    "colab": {
      "name": "Testing.ipynb",
      "private_outputs": true,
      "provenance": [],
      "collapsed_sections": [],
      "toc_visible": true
    },
    "kernelspec": {
      "name": "python3",
      "display_name": "Python 3"
    },
    "language_info": {
      "name": "python"
    }
  },
  "cells": [
    {
      "cell_type": "markdown",
      "metadata": {
        "id": "oYTCbLEqS86k"
      },
      "source": [
        "# Upload training-20210903T060329Z-001.zip file of model checkpoint in the '/content/' directory"
      ]
    },
    {
      "cell_type": "code",
      "metadata": {
        "id": "mThcQkS-S1hN"
      },
      "source": [
        "from google.colab import files\n",
        "\n",
        "files.upload()"
      ],
      "execution_count": null,
      "outputs": []
    },
    {
      "cell_type": "markdown",
      "metadata": {
        "id": "kaFPZ2flciN_"
      },
      "source": [
        "Or, Mount your Google drive to the VM"
      ]
    },
    {
      "cell_type": "code",
      "metadata": {
        "id": "Oh7x488scpj4"
      },
      "source": [
        "\n",
        "from google.colab import drive\n",
        "drive.mount('/content/drive')"
      ],
      "execution_count": null,
      "outputs": []
    },
    {
      "cell_type": "code",
      "metadata": {
        "id": "u4X75euodot_"
      },
      "source": [
        "!cp '''Here goes path to training-20210903T060329Z-001.zip''' /content/"
      ],
      "execution_count": null,
      "outputs": []
    },
    {
      "cell_type": "code",
      "metadata": {
        "id": "oIlXUqmvkKpu"
      },
      "source": [
        "drive.flush_and_unmount()"
      ],
      "execution_count": null,
      "outputs": []
    },
    {
      "cell_type": "markdown",
      "metadata": {
        "id": "oHKagBiKXbly"
      },
      "source": [
        "# Unzip the checkpoint directory"
      ]
    },
    {
      "cell_type": "code",
      "metadata": {
        "id": "uSSVQd6jTJ6D"
      },
      "source": [
        "# !unzip training-20210903T060329Z-001.zip\n",
        "!unzip training.zip"
      ],
      "execution_count": null,
      "outputs": []
    },
    {
      "cell_type": "markdown",
      "metadata": {
        "id": "UR52Bl1VXfLx"
      },
      "source": [
        "# Download the dataset for testing"
      ]
    },
    {
      "cell_type": "code",
      "metadata": {
        "id": "dC_bvELhRP71"
      },
      "source": [
        "import matplotlib.pyplot as plt\n",
        "import numpy as np\n",
        "import os\n",
        "import PIL\n",
        "import tensorflow as tf\n",
        "\n",
        "from tensorflow import keras\n",
        "from tensorflow.keras import layers\n",
        "from tensorflow.keras.models import Sequential"
      ],
      "execution_count": null,
      "outputs": []
    },
    {
      "cell_type": "code",
      "metadata": {
        "id": "g2PnnEw4VnpC"
      },
      "source": [
        "!pip install -q kaggle\n",
        "\n",
        "from google.colab import files\n",
        "\n",
        "files.upload()\n",
        "\n",
        "!mkdir ~/.kaggle\n",
        "!cp kaggle.json ~/.kaggle/\n",
        "!chmod 600 ~/.kaggle/kaggle.json\n",
        "\n",
        "!kaggle datasets download -d grassknoted/asl-alphabet\n",
        "\n",
        "!unzip asl-alphabet.zip\n",
        "\n",
        "for c in 'ABCDEFGHIJKLMNOPQRSTUVWXYZ':\n",
        "  os.mkdir('/content/asl_alphabet_test/asl_alphabet_test/'+c+'/')\n",
        "\n",
        "os.mkdir('/content/asl_alphabet_test/asl_alphabet_test/'+'del'+'/')\n",
        "os.mkdir('/content/asl_alphabet_test/asl_alphabet_test/'+'nothing'+'/')\n",
        "os.mkdir('/content/asl_alphabet_test/asl_alphabet_test/'+'space'+'/')\n",
        "\n",
        "for c in 'ABCDEFGHIJKLMNOPQRSTUVWXYZ':\n",
        "  os.replace('/content/asl_alphabet_test/asl_alphabet_test/'+c+'_test.jpg', '/content/asl_alphabet_test/asl_alphabet_test/'+c+'/'+c+'.jpg')\n",
        "\n",
        "os.replace('/content/asl_alphabet_test/asl_alphabet_test/nothing_test.jpg', '/content/asl_alphabet_test/asl_alphabet_test/nothing/nothing.jpg')\n",
        "os.replace('/content/asl_alphabet_test/asl_alphabet_test/space_test.jpg', '/content/asl_alphabet_test/asl_alphabet_test/space/space.jpg')\n"
      ],
      "execution_count": null,
      "outputs": []
    },
    {
      "cell_type": "markdown",
      "metadata": {
        "id": "dOnmWteAYSEB"
      },
      "source": [
        "# Load the data set off the disk"
      ]
    },
    {
      "cell_type": "code",
      "metadata": {
        "id": "Fwz5BsQ_XzqB"
      },
      "source": [
        "import pathlib\n",
        "train_data_dir = pathlib.Path('/content/asl_alphabet_train/asl_alphabet_train/')\n",
        "test_data_dir = pathlib.Path('/content/asl_alphabet_test/asl_alphabet_test')\n",
        "\n",
        "train_ds = tf.keras.preprocessing.image_dataset_from_directory(\n",
        "  train_data_dir,\n",
        "  image_size=(200, 200),\n",
        "  batch_size=32)\n",
        "\n",
        "test_ds = tf.keras.preprocessing.image_dataset_from_directory(\n",
        "  test_data_dir,\n",
        "  image_size=(200, 200),\n",
        "  batch_size=32)"
      ],
      "execution_count": null,
      "outputs": []
    },
    {
      "cell_type": "markdown",
      "metadata": {
        "id": "xeg4gXE-YXjh"
      },
      "source": [
        "# Define model configuration"
      ]
    },
    {
      "cell_type": "code",
      "metadata": {
        "id": "BxhgALVTUWZk"
      },
      "source": [
        "def create_model():\n",
        "  num_classes = 29\n",
        "\n",
        "  model = Sequential([\n",
        "    layers.experimental.preprocessing.Rescaling(1./255, input_shape=(200, 200, 3)),\n",
        "    layers.Conv2D(16, 3, padding='same', activation='relu'),\n",
        "    layers.MaxPooling2D(),\n",
        "    layers.Conv2D(32, 3, padding='same', activation='relu'),\n",
        "    layers.MaxPooling2D(),\n",
        "    layers.Conv2D(64, 3, padding='same', activation='relu'),\n",
        "    layers.MaxPooling2D(),\n",
        "    layers.Flatten(),\n",
        "    layers.Dense(128, activation='relu'),\n",
        "    layers.Dense(num_classes)\n",
        "  ])\n",
        "\n",
        "  model.compile(optimizer='adam',\n",
        "                loss=tf.keras.losses.SparseCategoricalCrossentropy(from_logits=True),\n",
        "                metrics=['accuracy'])\n",
        "  \n",
        "  return model"
      ],
      "execution_count": null,
      "outputs": []
    },
    {
      "cell_type": "code",
      "metadata": {
        "id": "nUHszHYybTWh"
      },
      "source": [
        ""
      ],
      "execution_count": null,
      "outputs": []
    },
    {
      "cell_type": "markdown",
      "metadata": {
        "id": "olPn6rwZYbJQ"
      },
      "source": [
        "# Load the model weights"
      ]
    },
    {
      "cell_type": "code",
      "metadata": {
        "id": "H0g-wtnrUmdM"
      },
      "source": [
        "checkpoint_path = \"/content/training/cp.ckpt\"\n",
        "\n",
        "model = create_model()\n",
        "model.load_weights(checkpoint_path)"
      ],
      "execution_count": null,
      "outputs": []
    },
    {
      "cell_type": "markdown",
      "metadata": {
        "id": "8i5rUztaYewp"
      },
      "source": [
        "# Test the model\n"
      ]
    },
    {
      "cell_type": "code",
      "metadata": {
        "id": "uvSMXdnIVeSb"
      },
      "source": [
        "test_loss, test_acc = model.evaluate(test_ds)"
      ],
      "execution_count": null,
      "outputs": []
    },
    {
      "cell_type": "code",
      "metadata": {
        "id": "bxDtNXo_YkFh"
      },
      "source": [
        "test_loss"
      ],
      "execution_count": null,
      "outputs": []
    },
    {
      "cell_type": "code",
      "metadata": {
        "id": "fFhetPVWZqV1"
      },
      "source": [
        "test_acc"
      ],
      "execution_count": null,
      "outputs": []
    },
    {
      "cell_type": "code",
      "metadata": {
        "id": "ZJftEU50Zrwy"
      },
      "source": [
        "probability_model = tf.keras.Sequential([model, \n",
        "                                         tf.keras.layers.Softmax()])"
      ],
      "execution_count": null,
      "outputs": []
    },
    {
      "cell_type": "code",
      "metadata": {
        "id": "zDRuPWxVaLHR"
      },
      "source": [
        "predictions = probability_model.predict(test_ds)"
      ],
      "execution_count": null,
      "outputs": []
    },
    {
      "cell_type": "code",
      "metadata": {
        "id": "UXFfZ8Zda-Ak"
      },
      "source": [
        "predictions"
      ],
      "execution_count": null,
      "outputs": []
    },
    {
      "cell_type": "code",
      "metadata": {
        "id": "J6nZVwyKGp-x"
      },
      "source": [
        "class_names = test_ds.class_names\n",
        "print(class_names)"
      ],
      "execution_count": null,
      "outputs": []
    },
    {
      "cell_type": "code",
      "metadata": {
        "id": "86A8Xi1yCzav"
      },
      "source": [
        "print(np.argmax(predictions))"
      ],
      "execution_count": null,
      "outputs": []
    },
    {
      "cell_type": "code",
      "metadata": {
        "id": "YIXY-rl3G6im"
      },
      "source": [
        "print(np.argmax(predictions[0]))"
      ],
      "execution_count": null,
      "outputs": []
    },
    {
      "cell_type": "code",
      "metadata": {
        "id": "PWYMqfusHCyl"
      },
      "source": [
        "print(np.argmax(predictions[1]))"
      ],
      "execution_count": null,
      "outputs": []
    },
    {
      "cell_type": "code",
      "metadata": {
        "id": "_O_RDqYtHLE3"
      },
      "source": [
        "print(np.argmax(predictions[2]))"
      ],
      "execution_count": null,
      "outputs": []
    },
    {
      "cell_type": "markdown",
      "metadata": {
        "id": "n6WpZT0ybIap"
      },
      "source": [
        "# Visualize the predictions"
      ]
    },
    {
      "cell_type": "code",
      "metadata": {
        "id": "NKkaW1Gfa_xQ"
      },
      "source": [
        "def plot_image(i, predictions_array, true_label, img):\n",
        "  true_label, img = true_label[i], img[i]\n",
        "  plt.grid(False)\n",
        "  plt.xticks([])\n",
        "  plt.yticks([])\n",
        "\n",
        "  plt.imshow(img, cmap=plt.cm.binary)\n",
        "\n",
        "  predicted_label = np.argmax(predictions_array)\n",
        "  if predicted_label == true_label:\n",
        "    color = 'blue'\n",
        "  else:\n",
        "    color = 'red'\n",
        "\n",
        "  plt.xlabel(\"{} {:2.0f}% ({})\".format(class_names[predicted_label],\n",
        "                                100*np.max(predictions_array),\n",
        "                                true_label),\n",
        "                                color=color)\n",
        "\n",
        "def plot_value_array(i, predictions_array, true_label):\n",
        "  true_label = true_label[i]\n",
        "  plt.grid(False)\n",
        "  plt.xticks(range(29))\n",
        "  plt.yticks([])\n",
        "  thisplot = plt.bar(range(29), predictions_array, color=\"#777777\")\n",
        "  plt.ylim([0, 1])\n",
        "  predicted_label = np.argmax(predictions_array)\n",
        "\n",
        "  thisplot[predicted_label].set_color('red')\n",
        "  thisplot[true_label].set_color('blue')\n"
      ],
      "execution_count": null,
      "outputs": []
    },
    {
      "cell_type": "code",
      "metadata": {
        "id": "TiG2mRAAmjOc"
      },
      "source": [
        "images = list(test_data_dir.glob('*/*.jpg'))"
      ],
      "execution_count": null,
      "outputs": []
    },
    {
      "cell_type": "code",
      "metadata": {
        "id": "QGBE-3MRrdxa"
      },
      "source": [
        "import re\n",
        "\n",
        "labels = list()\n",
        "\n",
        "for img in images:\n",
        "  labels.append(re.findall(r'/(\\w+)\\.jpg', str(img))[0])"
      ],
      "execution_count": null,
      "outputs": []
    },
    {
      "cell_type": "code",
      "metadata": {
        "id": "SP0nQRnDrrwt"
      },
      "source": [
        "labels = np.array([class_names.index(i) for i in labels])"
      ],
      "execution_count": null,
      "outputs": []
    },
    {
      "cell_type": "code",
      "metadata": {
        "id": "BT-RAW-WI6iB"
      },
      "source": [
        "img = [PIL.Image.open(i) for i in images]"
      ],
      "execution_count": null,
      "outputs": []
    },
    {
      "cell_type": "code",
      "metadata": {
        "id": "vizb0JwaJMLL"
      },
      "source": [
        "image_list = np.array([np.array(i) for i in img])\n",
        "image_list.shape"
      ],
      "execution_count": null,
      "outputs": []
    },
    {
      "cell_type": "code",
      "metadata": {
        "id": "ad8YQlhwKar1"
      },
      "source": [
        "test_predictions = probability_model.predict(image_list)"
      ],
      "execution_count": null,
      "outputs": []
    },
    {
      "cell_type": "code",
      "metadata": {
        "id": "P84wv4T8Hodd"
      },
      "source": [
        "num_rows = 14\n",
        "num_cols = 2\n",
        "num_images = num_rows*num_cols\n",
        "plt.figure(figsize=(2*7*num_cols, 2*num_rows))\n",
        "for j in range(num_images):\n",
        "  plt.subplot(num_rows, 2*num_cols, 2*j+1)\n",
        "  plot_image(j, test_predictions[j], labels, image_list)\n",
        "  plt.subplot(num_rows, 2*num_cols, 2*j+2)\n",
        "  plot_value_array(j, test_predictions[j], labels)\n",
        "plt.tight_layout()\n",
        "plt.show()"
      ],
      "execution_count": null,
      "outputs": []
    },
    {
      "cell_type": "code",
      "metadata": {
        "id": "uOLmKvTkHvCr"
      },
      "source": [
        "import cv2"
      ],
      "execution_count": null,
      "outputs": []
    },
    {
      "cell_type": "code",
      "metadata": {
        "id": "4g7mYTQfrz7j"
      },
      "source": [
        "!pwd\n",
        "image = cv2.imread('/content/A_test.jpg')\n"
      ],
      "execution_count": null,
      "outputs": []
    },
    {
      "cell_type": "code",
      "metadata": {
        "id": "TzW2LhGLsaQj"
      },
      "source": [
        "image = cv2.cvtColor(image, cv2.COLOR_BGR2RGB)\n",
        "plt.figure(figsize=(20, 20))\n",
        "plt.subplot(2, 2, 1)\n",
        "plt.title(\"Original\")\n",
        "plt.imshow(image)\n",
        "# image_scaled = cv2.resize(image, None, fx=0.75, fy=0.75)\n",
        "# plt.subplot(2, 2, 2)\n",
        "# plt.title(\"Scaling - Linear Interpolation\")\n",
        "# plt.imshow(image_scaled)\n",
        "# img_scaled = cv2.resize(image, None, fx=2, fy=2, interpolation = cv2.INTER_CUBIC)\n",
        "# plt.subplot(2, 2, 3)\n",
        "# plt.title(\"Scaling - Cubic Interpolation\")\n",
        "# plt.imshow(img_scaled)\n",
        "img_scaled = cv2.resize(image, (200, 200), interpolation = cv2.INTER_AREA)\n",
        "plt.subplot(2, 2, 2)\n",
        "plt.title(\"Scaling - Skewed Size\")\n",
        "plt.imshow(img_scaled)"
      ],
      "execution_count": null,
      "outputs": []
    },
    {
      "cell_type": "markdown",
      "metadata": {
        "id": "jiMx8qNMumb6"
      },
      "source": [
        "Testing"
      ]
    },
    {
      "cell_type": "code",
      "metadata": {
        "id": "XG_lhxfKufb7"
      },
      "source": [
        "resizing_model = tf.keras.Sequential([\n",
        "  layers.experimental.preprocessing.Resizing(200, 200, crop_to_aspect_ratio=False)\n",
        "])"
      ],
      "execution_count": null,
      "outputs": []
    },
    {
      "cell_type": "code",
      "metadata": {
        "id": "NOuqPZYrvBhy"
      },
      "source": [
        "sample_path = '/content/sample_images/*'\n",
        "sample_ds = tf.data.Dataset.list_files(sample_path)\n",
        "sample_file = next(iter(sample_ds))\n",
        "image = tf.io.read_file(sample_file)\n",
        "image = tf.image.decode_png(image)\n",
        "image = tf.image.convert_image_dtype(image, tf.float32)"
      ],
      "execution_count": null,
      "outputs": []
    },
    {
      "cell_type": "code",
      "metadata": {
        "id": "RSBWRx9L6Jky"
      },
      "source": [
        "plt.imshow(image)"
      ],
      "execution_count": null,
      "outputs": []
    },
    {
      "cell_type": "code",
      "metadata": {
        "id": "MJa4N8CK6WxN"
      },
      "source": [
        "resized_image = resizing_model(image.numpy())\n",
        "plt.imshow(resized_image)"
      ],
      "execution_count": null,
      "outputs": []
    },
    {
      "cell_type": "code",
      "metadata": {
        "id": "s3p9hPqLOrB4"
      },
      "source": [
        ""
      ],
      "execution_count": null,
      "outputs": []
    }
  ]
}